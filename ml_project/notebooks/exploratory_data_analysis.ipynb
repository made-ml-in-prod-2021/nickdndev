{
 "cells": [
  {
   "cell_type": "code",
   "execution_count": 1,
   "id": "3dce3360-a4d9-4683-b78a-736655defe20",
   "metadata": {
    "papermill": {
     "duration": 1.086387,
     "end_time": "2021-04-19T11:14:54.451342",
     "exception": false,
     "start_time": "2021-04-19T11:14:53.364955",
     "status": "completed"
    },
    "tags": []
   },
   "outputs": [
    {
     "name": "stderr",
     "output_type": "stream",
     "text": [
      "/home/nickdn/anaconda3/lib/python3.7/site-packages/statsmodels/tools/_testing.py:19: FutureWarning: pandas.util.testing is deprecated. Use the functions in the public API at pandas.testing instead.\n",
      "  import pandas.util.testing as tm\n"
     ]
    }
   ],
   "source": [
    "import pandas as pd\n",
    "import numpy as np\n",
    "import matplotlib.pyplot as plt\n",
    "import seaborn as sns\n",
    "\n",
    "#import time for training details\n",
    "from time import time\n",
    "t0 = time()\n",
    "\n",
    "import warnings\n",
    "warnings.filterwarnings('ignore')"
   ]
  },
  {
   "cell_type": "markdown",
   "id": "f077ca07-d83c-4fa6-a904-9a5f1b7a1c26",
   "metadata": {
    "papermill": {
     "duration": 0.030782,
     "end_time": "2021-04-19T11:14:54.511560",
     "exception": false,
     "start_time": "2021-04-19T11:14:54.480778",
     "status": "completed"
    },
    "tags": []
   },
   "source": [
    "## **Importing and Reading the Dataset**"
   ]
  },
  {
   "cell_type": "code",
   "execution_count": 3,
   "id": "06cb08ac-fe1d-49fc-ad76-a9812636c92a",
   "metadata": {
    "papermill": {
     "duration": 0.058979,
     "end_time": "2021-04-19T11:14:54.599491",
     "exception": false,
     "start_time": "2021-04-19T11:14:54.540512",
     "status": "completed"
    },
    "tags": []
   },
   "outputs": [],
   "source": [
    "df_heart= pd.read_csv(\"../data/raw/heart.csv\")"
   ]
  },
  {
   "cell_type": "code",
   "execution_count": 4,
   "id": "940a878c-e947-450f-b978-03c6bc91893e",
   "metadata": {
    "papermill": {
     "duration": 0.038647,
     "end_time": "2021-04-19T11:14:54.668011",
     "exception": false,
     "start_time": "2021-04-19T11:14:54.629364",
     "status": "completed"
    },
    "tags": []
   },
   "outputs": [
    {
     "name": "stdout",
     "output_type": "stream",
     "text": [
      "Total number of rows: 303\n",
      "Total number of columns: 14\n"
     ]
    }
   ],
   "source": [
    "df_heart_row_count, df_heart_column_count=df_heart.shape\n",
    "print('Total number of rows:', df_heart_row_count)\n",
    "print('Total number of columns:', df_heart_column_count)"
   ]
  },
  {
   "cell_type": "code",
   "execution_count": 5,
   "id": "e02ad21e-9449-42c1-9330-787796011076",
   "metadata": {
    "papermill": {
     "duration": 0.067796,
     "end_time": "2021-04-19T11:14:54.826033",
     "exception": false,
     "start_time": "2021-04-19T11:14:54.758237",
     "status": "completed"
    },
    "tags": []
   },
   "outputs": [
    {
     "name": "stdout",
     "output_type": "stream",
     "text": [
      "<class 'pandas.core.frame.DataFrame'>\n",
      "RangeIndex: 303 entries, 0 to 302\n",
      "Data columns (total 14 columns):\n",
      " #   Column    Non-Null Count  Dtype  \n",
      "---  ------    --------------  -----  \n",
      " 0   age       303 non-null    int64  \n",
      " 1   sex       303 non-null    int64  \n",
      " 2   cp        303 non-null    int64  \n",
      " 3   trestbps  303 non-null    int64  \n",
      " 4   chol      303 non-null    int64  \n",
      " 5   fbs       303 non-null    int64  \n",
      " 6   restecg   303 non-null    int64  \n",
      " 7   thalach   303 non-null    int64  \n",
      " 8   exang     303 non-null    int64  \n",
      " 9   oldpeak   303 non-null    float64\n",
      " 10  slope     303 non-null    int64  \n",
      " 11  ca        303 non-null    int64  \n",
      " 12  thal      303 non-null    int64  \n",
      " 13  target    303 non-null    int64  \n",
      "dtypes: float64(1), int64(13)\n",
      "memory usage: 33.3 KB\n"
     ]
    }
   ],
   "source": [
    "df_heart.info()"
   ]
  },
  {
   "cell_type": "code",
   "execution_count": 6,
   "id": "9cfb61c8-40b9-4a37-968b-c8f930cb1960",
   "metadata": {},
   "outputs": [
    {
     "data": {
      "text/html": [
       "<div>\n",
       "<style scoped>\n",
       "    .dataframe tbody tr th:only-of-type {\n",
       "        vertical-align: middle;\n",
       "    }\n",
       "\n",
       "    .dataframe tbody tr th {\n",
       "        vertical-align: top;\n",
       "    }\n",
       "\n",
       "    .dataframe thead th {\n",
       "        text-align: right;\n",
       "    }\n",
       "</style>\n",
       "<table border=\"1\" class=\"dataframe\">\n",
       "  <thead>\n",
       "    <tr style=\"text-align: right;\">\n",
       "      <th></th>\n",
       "      <th>age</th>\n",
       "      <th>sex</th>\n",
       "      <th>cp</th>\n",
       "      <th>trestbps</th>\n",
       "      <th>chol</th>\n",
       "      <th>fbs</th>\n",
       "      <th>restecg</th>\n",
       "      <th>thalach</th>\n",
       "      <th>exang</th>\n",
       "      <th>oldpeak</th>\n",
       "      <th>slope</th>\n",
       "      <th>ca</th>\n",
       "      <th>thal</th>\n",
       "      <th>target</th>\n",
       "    </tr>\n",
       "  </thead>\n",
       "  <tbody>\n",
       "    <tr>\n",
       "      <th>0</th>\n",
       "      <td>63</td>\n",
       "      <td>1</td>\n",
       "      <td>3</td>\n",
       "      <td>145</td>\n",
       "      <td>233</td>\n",
       "      <td>1</td>\n",
       "      <td>0</td>\n",
       "      <td>150</td>\n",
       "      <td>0</td>\n",
       "      <td>2.3</td>\n",
       "      <td>0</td>\n",
       "      <td>0</td>\n",
       "      <td>1</td>\n",
       "      <td>1</td>\n",
       "    </tr>\n",
       "    <tr>\n",
       "      <th>1</th>\n",
       "      <td>37</td>\n",
       "      <td>1</td>\n",
       "      <td>2</td>\n",
       "      <td>130</td>\n",
       "      <td>250</td>\n",
       "      <td>0</td>\n",
       "      <td>1</td>\n",
       "      <td>187</td>\n",
       "      <td>0</td>\n",
       "      <td>3.5</td>\n",
       "      <td>0</td>\n",
       "      <td>0</td>\n",
       "      <td>2</td>\n",
       "      <td>1</td>\n",
       "    </tr>\n",
       "    <tr>\n",
       "      <th>2</th>\n",
       "      <td>41</td>\n",
       "      <td>0</td>\n",
       "      <td>1</td>\n",
       "      <td>130</td>\n",
       "      <td>204</td>\n",
       "      <td>0</td>\n",
       "      <td>0</td>\n",
       "      <td>172</td>\n",
       "      <td>0</td>\n",
       "      <td>1.4</td>\n",
       "      <td>2</td>\n",
       "      <td>0</td>\n",
       "      <td>2</td>\n",
       "      <td>1</td>\n",
       "    </tr>\n",
       "    <tr>\n",
       "      <th>3</th>\n",
       "      <td>56</td>\n",
       "      <td>1</td>\n",
       "      <td>1</td>\n",
       "      <td>120</td>\n",
       "      <td>236</td>\n",
       "      <td>0</td>\n",
       "      <td>1</td>\n",
       "      <td>178</td>\n",
       "      <td>0</td>\n",
       "      <td>0.8</td>\n",
       "      <td>2</td>\n",
       "      <td>0</td>\n",
       "      <td>2</td>\n",
       "      <td>1</td>\n",
       "    </tr>\n",
       "    <tr>\n",
       "      <th>4</th>\n",
       "      <td>57</td>\n",
       "      <td>0</td>\n",
       "      <td>0</td>\n",
       "      <td>120</td>\n",
       "      <td>354</td>\n",
       "      <td>0</td>\n",
       "      <td>1</td>\n",
       "      <td>163</td>\n",
       "      <td>1</td>\n",
       "      <td>0.6</td>\n",
       "      <td>2</td>\n",
       "      <td>0</td>\n",
       "      <td>2</td>\n",
       "      <td>1</td>\n",
       "    </tr>\n",
       "  </tbody>\n",
       "</table>\n",
       "</div>"
      ],
      "text/plain": [
       "   age  sex  cp  trestbps  chol  fbs  restecg  thalach  exang  oldpeak  slope  \\\n",
       "0   63    1   3       145   233    1        0      150      0      2.3      0   \n",
       "1   37    1   2       130   250    0        1      187      0      3.5      0   \n",
       "2   41    0   1       130   204    0        0      172      0      1.4      2   \n",
       "3   56    1   1       120   236    0        1      178      0      0.8      2   \n",
       "4   57    0   0       120   354    0        1      163      1      0.6      2   \n",
       "\n",
       "   ca  thal  target  \n",
       "0   0     1       1  \n",
       "1   0     2       1  \n",
       "2   0     2       1  \n",
       "3   0     2       1  \n",
       "4   0     2       1  "
      ]
     },
     "execution_count": 6,
     "metadata": {},
     "output_type": "execute_result"
    }
   ],
   "source": [
    "df_heart.head()"
   ]
  },
  {
   "cell_type": "code",
   "execution_count": 7,
   "id": "6751edd7-2852-4453-901f-6443e1e08cd2",
   "metadata": {
    "papermill": {
     "duration": 0.100794,
     "end_time": "2021-04-19T11:14:54.957127",
     "exception": false,
     "start_time": "2021-04-19T11:14:54.856333",
     "status": "completed"
    },
    "tags": []
   },
   "outputs": [
    {
     "data": {
      "text/html": [
       "<div>\n",
       "<style scoped>\n",
       "    .dataframe tbody tr th:only-of-type {\n",
       "        vertical-align: middle;\n",
       "    }\n",
       "\n",
       "    .dataframe tbody tr th {\n",
       "        vertical-align: top;\n",
       "    }\n",
       "\n",
       "    .dataframe thead th {\n",
       "        text-align: right;\n",
       "    }\n",
       "</style>\n",
       "<table border=\"1\" class=\"dataframe\">\n",
       "  <thead>\n",
       "    <tr style=\"text-align: right;\">\n",
       "      <th></th>\n",
       "      <th>age</th>\n",
       "      <th>sex</th>\n",
       "      <th>cp</th>\n",
       "      <th>trestbps</th>\n",
       "      <th>chol</th>\n",
       "      <th>fbs</th>\n",
       "      <th>restecg</th>\n",
       "      <th>thalach</th>\n",
       "      <th>exang</th>\n",
       "      <th>oldpeak</th>\n",
       "      <th>slope</th>\n",
       "      <th>ca</th>\n",
       "      <th>thal</th>\n",
       "      <th>target</th>\n",
       "    </tr>\n",
       "  </thead>\n",
       "  <tbody>\n",
       "    <tr>\n",
       "      <th>count</th>\n",
       "      <td>303.000000</td>\n",
       "      <td>303.000000</td>\n",
       "      <td>303.000000</td>\n",
       "      <td>303.000000</td>\n",
       "      <td>303.000000</td>\n",
       "      <td>303.000000</td>\n",
       "      <td>303.000000</td>\n",
       "      <td>303.000000</td>\n",
       "      <td>303.000000</td>\n",
       "      <td>303.000000</td>\n",
       "      <td>303.000000</td>\n",
       "      <td>303.000000</td>\n",
       "      <td>303.000000</td>\n",
       "      <td>303.000000</td>\n",
       "    </tr>\n",
       "    <tr>\n",
       "      <th>mean</th>\n",
       "      <td>54.366337</td>\n",
       "      <td>0.683168</td>\n",
       "      <td>0.966997</td>\n",
       "      <td>131.623762</td>\n",
       "      <td>246.264026</td>\n",
       "      <td>0.148515</td>\n",
       "      <td>0.528053</td>\n",
       "      <td>149.646865</td>\n",
       "      <td>0.326733</td>\n",
       "      <td>1.039604</td>\n",
       "      <td>1.399340</td>\n",
       "      <td>0.729373</td>\n",
       "      <td>2.313531</td>\n",
       "      <td>0.544554</td>\n",
       "    </tr>\n",
       "    <tr>\n",
       "      <th>std</th>\n",
       "      <td>9.082101</td>\n",
       "      <td>0.466011</td>\n",
       "      <td>1.032052</td>\n",
       "      <td>17.538143</td>\n",
       "      <td>51.830751</td>\n",
       "      <td>0.356198</td>\n",
       "      <td>0.525860</td>\n",
       "      <td>22.905161</td>\n",
       "      <td>0.469794</td>\n",
       "      <td>1.161075</td>\n",
       "      <td>0.616226</td>\n",
       "      <td>1.022606</td>\n",
       "      <td>0.612277</td>\n",
       "      <td>0.498835</td>\n",
       "    </tr>\n",
       "    <tr>\n",
       "      <th>min</th>\n",
       "      <td>29.000000</td>\n",
       "      <td>0.000000</td>\n",
       "      <td>0.000000</td>\n",
       "      <td>94.000000</td>\n",
       "      <td>126.000000</td>\n",
       "      <td>0.000000</td>\n",
       "      <td>0.000000</td>\n",
       "      <td>71.000000</td>\n",
       "      <td>0.000000</td>\n",
       "      <td>0.000000</td>\n",
       "      <td>0.000000</td>\n",
       "      <td>0.000000</td>\n",
       "      <td>0.000000</td>\n",
       "      <td>0.000000</td>\n",
       "    </tr>\n",
       "    <tr>\n",
       "      <th>25%</th>\n",
       "      <td>47.500000</td>\n",
       "      <td>0.000000</td>\n",
       "      <td>0.000000</td>\n",
       "      <td>120.000000</td>\n",
       "      <td>211.000000</td>\n",
       "      <td>0.000000</td>\n",
       "      <td>0.000000</td>\n",
       "      <td>133.500000</td>\n",
       "      <td>0.000000</td>\n",
       "      <td>0.000000</td>\n",
       "      <td>1.000000</td>\n",
       "      <td>0.000000</td>\n",
       "      <td>2.000000</td>\n",
       "      <td>0.000000</td>\n",
       "    </tr>\n",
       "    <tr>\n",
       "      <th>50%</th>\n",
       "      <td>55.000000</td>\n",
       "      <td>1.000000</td>\n",
       "      <td>1.000000</td>\n",
       "      <td>130.000000</td>\n",
       "      <td>240.000000</td>\n",
       "      <td>0.000000</td>\n",
       "      <td>1.000000</td>\n",
       "      <td>153.000000</td>\n",
       "      <td>0.000000</td>\n",
       "      <td>0.800000</td>\n",
       "      <td>1.000000</td>\n",
       "      <td>0.000000</td>\n",
       "      <td>2.000000</td>\n",
       "      <td>1.000000</td>\n",
       "    </tr>\n",
       "    <tr>\n",
       "      <th>75%</th>\n",
       "      <td>61.000000</td>\n",
       "      <td>1.000000</td>\n",
       "      <td>2.000000</td>\n",
       "      <td>140.000000</td>\n",
       "      <td>274.500000</td>\n",
       "      <td>0.000000</td>\n",
       "      <td>1.000000</td>\n",
       "      <td>166.000000</td>\n",
       "      <td>1.000000</td>\n",
       "      <td>1.600000</td>\n",
       "      <td>2.000000</td>\n",
       "      <td>1.000000</td>\n",
       "      <td>3.000000</td>\n",
       "      <td>1.000000</td>\n",
       "    </tr>\n",
       "    <tr>\n",
       "      <th>max</th>\n",
       "      <td>77.000000</td>\n",
       "      <td>1.000000</td>\n",
       "      <td>3.000000</td>\n",
       "      <td>200.000000</td>\n",
       "      <td>564.000000</td>\n",
       "      <td>1.000000</td>\n",
       "      <td>2.000000</td>\n",
       "      <td>202.000000</td>\n",
       "      <td>1.000000</td>\n",
       "      <td>6.200000</td>\n",
       "      <td>2.000000</td>\n",
       "      <td>4.000000</td>\n",
       "      <td>3.000000</td>\n",
       "      <td>1.000000</td>\n",
       "    </tr>\n",
       "  </tbody>\n",
       "</table>\n",
       "</div>"
      ],
      "text/plain": [
       "              age         sex          cp    trestbps        chol         fbs  \\\n",
       "count  303.000000  303.000000  303.000000  303.000000  303.000000  303.000000   \n",
       "mean    54.366337    0.683168    0.966997  131.623762  246.264026    0.148515   \n",
       "std      9.082101    0.466011    1.032052   17.538143   51.830751    0.356198   \n",
       "min     29.000000    0.000000    0.000000   94.000000  126.000000    0.000000   \n",
       "25%     47.500000    0.000000    0.000000  120.000000  211.000000    0.000000   \n",
       "50%     55.000000    1.000000    1.000000  130.000000  240.000000    0.000000   \n",
       "75%     61.000000    1.000000    2.000000  140.000000  274.500000    0.000000   \n",
       "max     77.000000    1.000000    3.000000  200.000000  564.000000    1.000000   \n",
       "\n",
       "          restecg     thalach       exang     oldpeak       slope          ca  \\\n",
       "count  303.000000  303.000000  303.000000  303.000000  303.000000  303.000000   \n",
       "mean     0.528053  149.646865    0.326733    1.039604    1.399340    0.729373   \n",
       "std      0.525860   22.905161    0.469794    1.161075    0.616226    1.022606   \n",
       "min      0.000000   71.000000    0.000000    0.000000    0.000000    0.000000   \n",
       "25%      0.000000  133.500000    0.000000    0.000000    1.000000    0.000000   \n",
       "50%      1.000000  153.000000    0.000000    0.800000    1.000000    0.000000   \n",
       "75%      1.000000  166.000000    1.000000    1.600000    2.000000    1.000000   \n",
       "max      2.000000  202.000000    1.000000    6.200000    2.000000    4.000000   \n",
       "\n",
       "             thal      target  \n",
       "count  303.000000  303.000000  \n",
       "mean     2.313531    0.544554  \n",
       "std      0.612277    0.498835  \n",
       "min      0.000000    0.000000  \n",
       "25%      2.000000    0.000000  \n",
       "50%      2.000000    1.000000  \n",
       "75%      3.000000    1.000000  \n",
       "max      3.000000    1.000000  "
      ]
     },
     "execution_count": 7,
     "metadata": {},
     "output_type": "execute_result"
    }
   ],
   "source": [
    "df_heart.describe()"
   ]
  },
  {
   "cell_type": "markdown",
   "id": "073370a2-e15d-46f5-ad1c-2b2fe3d730e8",
   "metadata": {
    "papermill": {
     "duration": 0.031942,
     "end_time": "2021-04-19T11:14:55.020020",
     "exception": false,
     "start_time": "2021-04-19T11:14:54.988078",
     "status": "completed"
    },
    "tags": []
   },
   "source": [
    "## **Missing values**"
   ]
  },
  {
   "cell_type": "code",
   "execution_count": 8,
   "id": "bb1ac823-379b-4de9-b27c-1dc5e1fdc0ae",
   "metadata": {
    "papermill": {
     "duration": 0.044631,
     "end_time": "2021-04-19T11:14:55.095727",
     "exception": false,
     "start_time": "2021-04-19T11:14:55.051096",
     "status": "completed"
    },
    "tags": []
   },
   "outputs": [
    {
     "data": {
      "text/plain": [
       "age         0\n",
       "sex         0\n",
       "cp          0\n",
       "trestbps    0\n",
       "chol        0\n",
       "fbs         0\n",
       "restecg     0\n",
       "thalach     0\n",
       "exang       0\n",
       "oldpeak     0\n",
       "slope       0\n",
       "ca          0\n",
       "thal        0\n",
       "target      0\n",
       "dtype: int64"
      ]
     },
     "execution_count": 8,
     "metadata": {},
     "output_type": "execute_result"
    }
   ],
   "source": [
    "df_heart.isna().sum()"
   ]
  },
  {
   "cell_type": "code",
   "execution_count": 9,
   "id": "b13f44f4-a3f2-42d3-8590-81da9a7d2126",
   "metadata": {
    "papermill": {
     "duration": 0.057089,
     "end_time": "2021-04-19T11:14:55.184151",
     "exception": false,
     "start_time": "2021-04-19T11:14:55.127062",
     "status": "completed"
    },
    "tags": []
   },
   "outputs": [
    {
     "data": {
      "text/html": [
       "<div>\n",
       "<style scoped>\n",
       "    .dataframe tbody tr th:only-of-type {\n",
       "        vertical-align: middle;\n",
       "    }\n",
       "\n",
       "    .dataframe tbody tr th {\n",
       "        vertical-align: top;\n",
       "    }\n",
       "\n",
       "    .dataframe thead th {\n",
       "        text-align: right;\n",
       "    }\n",
       "</style>\n",
       "<table border=\"1\" class=\"dataframe\">\n",
       "  <thead>\n",
       "    <tr style=\"text-align: right;\">\n",
       "      <th></th>\n",
       "      <th>age</th>\n",
       "      <th>sex</th>\n",
       "      <th>cp</th>\n",
       "      <th>trestbps</th>\n",
       "      <th>chol</th>\n",
       "      <th>fbs</th>\n",
       "      <th>restecg</th>\n",
       "      <th>thalach</th>\n",
       "      <th>exang</th>\n",
       "      <th>oldpeak</th>\n",
       "      <th>slope</th>\n",
       "      <th>ca</th>\n",
       "      <th>thal</th>\n",
       "      <th>target</th>\n",
       "    </tr>\n",
       "  </thead>\n",
       "  <tbody>\n",
       "    <tr>\n",
       "      <th>0</th>\n",
       "      <td>63</td>\n",
       "      <td>1</td>\n",
       "      <td>3</td>\n",
       "      <td>145</td>\n",
       "      <td>233</td>\n",
       "      <td>1</td>\n",
       "      <td>0</td>\n",
       "      <td>150</td>\n",
       "      <td>0</td>\n",
       "      <td>2.3</td>\n",
       "      <td>0</td>\n",
       "      <td>0</td>\n",
       "      <td>1</td>\n",
       "      <td>1</td>\n",
       "    </tr>\n",
       "    <tr>\n",
       "      <th>1</th>\n",
       "      <td>37</td>\n",
       "      <td>1</td>\n",
       "      <td>2</td>\n",
       "      <td>130</td>\n",
       "      <td>250</td>\n",
       "      <td>0</td>\n",
       "      <td>1</td>\n",
       "      <td>187</td>\n",
       "      <td>0</td>\n",
       "      <td>3.5</td>\n",
       "      <td>0</td>\n",
       "      <td>0</td>\n",
       "      <td>2</td>\n",
       "      <td>1</td>\n",
       "    </tr>\n",
       "    <tr>\n",
       "      <th>2</th>\n",
       "      <td>41</td>\n",
       "      <td>0</td>\n",
       "      <td>1</td>\n",
       "      <td>130</td>\n",
       "      <td>204</td>\n",
       "      <td>0</td>\n",
       "      <td>0</td>\n",
       "      <td>172</td>\n",
       "      <td>0</td>\n",
       "      <td>1.4</td>\n",
       "      <td>2</td>\n",
       "      <td>0</td>\n",
       "      <td>2</td>\n",
       "      <td>1</td>\n",
       "    </tr>\n",
       "    <tr>\n",
       "      <th>3</th>\n",
       "      <td>56</td>\n",
       "      <td>1</td>\n",
       "      <td>1</td>\n",
       "      <td>120</td>\n",
       "      <td>236</td>\n",
       "      <td>0</td>\n",
       "      <td>1</td>\n",
       "      <td>178</td>\n",
       "      <td>0</td>\n",
       "      <td>0.8</td>\n",
       "      <td>2</td>\n",
       "      <td>0</td>\n",
       "      <td>2</td>\n",
       "      <td>1</td>\n",
       "    </tr>\n",
       "    <tr>\n",
       "      <th>4</th>\n",
       "      <td>57</td>\n",
       "      <td>0</td>\n",
       "      <td>0</td>\n",
       "      <td>120</td>\n",
       "      <td>354</td>\n",
       "      <td>0</td>\n",
       "      <td>1</td>\n",
       "      <td>163</td>\n",
       "      <td>1</td>\n",
       "      <td>0.6</td>\n",
       "      <td>2</td>\n",
       "      <td>0</td>\n",
       "      <td>2</td>\n",
       "      <td>1</td>\n",
       "    </tr>\n",
       "  </tbody>\n",
       "</table>\n",
       "</div>"
      ],
      "text/plain": [
       "   age  sex  cp  trestbps  chol  fbs  restecg  thalach  exang  oldpeak  slope  \\\n",
       "0   63    1   3       145   233    1        0      150      0      2.3      0   \n",
       "1   37    1   2       130   250    0        1      187      0      3.5      0   \n",
       "2   41    0   1       130   204    0        0      172      0      1.4      2   \n",
       "3   56    1   1       120   236    0        1      178      0      0.8      2   \n",
       "4   57    0   0       120   354    0        1      163      1      0.6      2   \n",
       "\n",
       "   ca  thal  target  \n",
       "0   0     1       1  \n",
       "1   0     2       1  \n",
       "2   0     2       1  \n",
       "3   0     2       1  \n",
       "4   0     2       1  "
      ]
     },
     "execution_count": 9,
     "metadata": {},
     "output_type": "execute_result"
    }
   ],
   "source": [
    "df_heart.head().iloc[:5]"
   ]
  },
  {
   "cell_type": "code",
   "execution_count": 10,
   "id": "8d7a41dc-5bf0-4b6d-9c77-8e4c928e64a4",
   "metadata": {
    "papermill": {
     "duration": 0.046225,
     "end_time": "2021-04-19T11:14:55.267979",
     "exception": false,
     "start_time": "2021-04-19T11:14:55.221754",
     "status": "completed"
    },
    "tags": []
   },
   "outputs": [
    {
     "data": {
      "text/plain": [
       "1    165\n",
       "0    138\n",
       "Name: target, dtype: int64"
      ]
     },
     "execution_count": 10,
     "metadata": {},
     "output_type": "execute_result"
    }
   ],
   "source": [
    "df_heart.target.value_counts()"
   ]
  },
  {
   "cell_type": "code",
   "execution_count": 11,
   "id": "c6628e7e-d701-4fa2-8382-53668832c22e",
   "metadata": {
    "papermill": {
     "duration": 0.044795,
     "end_time": "2021-04-19T11:14:55.347316",
     "exception": false,
     "start_time": "2021-04-19T11:14:55.302521",
     "status": "completed"
    },
    "tags": []
   },
   "outputs": [
    {
     "data": {
      "text/plain": [
       "1    207\n",
       "0     96\n",
       "Name: sex, dtype: int64"
      ]
     },
     "execution_count": 11,
     "metadata": {},
     "output_type": "execute_result"
    }
   ],
   "source": [
    "df_heart.sex.value_counts()"
   ]
  },
  {
   "cell_type": "code",
   "execution_count": 41,
   "id": "2e62b9a1-5e98-4717-bc9d-5d35053d6169",
   "metadata": {
    "papermill": {
     "duration": 0.207129,
     "end_time": "2021-04-19T11:14:55.590311",
     "exception": false,
     "start_time": "2021-04-19T11:14:55.383182",
     "status": "completed"
    },
    "tags": []
   },
   "outputs": [
    {
     "data": {
      "image/png": "[encoded data removed]",
      "text/plain": [
       "<Figure size 432x288 with 1 Axes>"
      ]
     },
     "metadata": {},
     "output_type": "display_data"
    }
   ],
   "source": [
    "gender_dist = df_heart.groupby('sex')[['sex']].count()\n",
    "colors_list = ['blue', 'green']\n",
    "plt.pie(gender_dist['sex'], labels = ['Female','Male'], autopct = '%1.1f%%', colors = colors_list)\n",
    "plt.title(\"Gender distribution\",color = 'black', fontsize = '14')\n",
    "plt.show()"
   ]
  },
  {
   "cell_type": "code",
   "execution_count": 13,
   "id": "0523f250-0a38-420f-a1a4-78b98d265b44",
   "metadata": {
    "papermill": {
     "duration": 0.183549,
     "end_time": "2021-04-19T11:14:55.808823",
     "exception": false,
     "start_time": "2021-04-19T11:14:55.625274",
     "status": "completed"
    },
    "tags": []
   },
   "outputs": [
    {
     "data": {
      "image/png": "[encoded data removed]",
      "text/plain": [
       "<Figure size 432x288 with 1 Axes>"
      ]
     },
     "metadata": {
      "needs_background": "light"
     },
     "output_type": "display_data"
    }
   ],
   "source": [
    "p = sns.countplot(data=df_heart, x = 'sex')"
   ]
  },
  {
   "cell_type": "code",
   "execution_count": 14,
   "id": "23ea8d2f-d934-4217-a52e-42c5009dec26",
   "metadata": {
    "papermill": {
     "duration": 1.310574,
     "end_time": "2021-04-19T11:14:57.224243",
     "exception": false,
     "start_time": "2021-04-19T11:14:55.913669",
     "status": "completed"
    },
    "tags": []
   },
   "outputs": [
    {
     "data": {
      "image/png": "[encoded data removed]",
      "text/plain": [
       "<Figure size 720x1440 with 8 Axes>"
      ]
     },
     "metadata": {
      "needs_background": "light"
     },
     "output_type": "display_data"
    }
   ],
   "source": [
    "df_ht = ['sex','cp','restecg','fbs','ca','slope','thal', 'target']\n",
    "\n",
    "fig, axs = plt.subplots(4, 2, figsize=(10,20))\n",
    "axs = axs.flatten()\n",
    "\n",
    "for i, col_name in enumerate(df_ht):\n",
    "    sns.countplot(x=col_name, data=df_heart, ax=axs[i], hue =df_heart['target'])\n",
    "    plt.title(\"Bar chart of\")\n",
    "    axs[i].set_xlabel(f\"{col_name}\", weight = 'bold')\n",
    "    axs[i].set_ylabel('Count', weight='bold')"
   ]
  },
  {
   "cell_type": "markdown",
   "id": "281828ab-fb15-4306-aad4-00dc29f25c2c",
   "metadata": {
    "papermill": {
     "duration": 0.037265,
     "end_time": "2021-04-19T11:14:57.300838",
     "exception": false,
     "start_time": "2021-04-19T11:14:57.263573",
     "status": "completed"
    },
    "tags": []
   },
   "source": [
    "## **Correlation map for features**"
   ]
  },
  {
   "cell_type": "code",
   "execution_count": 15,
   "id": "445756d1-dcb7-4a65-bcc2-615c574e6233",
   "metadata": {
    "papermill": {
     "duration": 1.309818,
     "end_time": "2021-04-19T11:14:58.648327",
     "exception": false,
     "start_time": "2021-04-19T11:14:57.338509",
     "status": "completed"
    },
    "tags": []
   },
   "outputs": [
    {
     "data": {
      "text/plain": [
       "<AxesSubplot:title={'center':'Correlation map for variables'}>"
      ]
     },
     "execution_count": 15,
     "metadata": {},
     "output_type": "execute_result"
    },
    {
     "data": {
      "image/png": "[encoded data removed]",
      "text/plain": [
       "<Figure size 864x864 with 2 Axes>"
      ]
     },
     "metadata": {
      "needs_background": "light"
     },
     "output_type": "display_data"
    }
   ],
   "source": [
    "f,ax = plt.subplots(figsize=(12, 12))\n",
    "ax.set_title('Correlation map for variables')\n",
    "sns.heatmap(df_heart.corr(), annot=True, linewidths=.5, fmt= '.1f')"
   ]
  },
  {
   "cell_type": "code",
   "execution_count": 17,
   "id": "e11d33cb-9346-480f-9b80-df26897fdb0f",
   "metadata": {
    "papermill": {
     "duration": 0.247534,
     "end_time": "2021-04-19T11:14:59.021046",
     "exception": false,
     "start_time": "2021-04-19T11:14:58.773512",
     "status": "completed"
    },
    "tags": []
   },
   "outputs": [
    {
     "data": {
      "image/png": "[encoded data removed]",
      "text/plain": [
       "<Figure size 432x288 with 1 Axes>"
      ]
     },
     "metadata": {
      "needs_background": "light"
     },
     "output_type": "display_data"
    }
   ],
   "source": [
    "p = sns.barplot(data=df_heart, x = 'sex',y='chol')"
   ]
  },
  {
   "cell_type": "code",
   "execution_count": 19,
   "id": "a3ec0a64-0a80-4ed5-ae7a-d940b0e1eef0",
   "metadata": {
    "papermill": {
     "duration": 0.383922,
     "end_time": "2021-04-19T11:14:59.561349",
     "exception": false,
     "start_time": "2021-04-19T11:14:59.177427",
     "status": "completed"
    },
    "tags": []
   },
   "outputs": [
    {
     "data": {
      "image/png": "[encoded data removed]",
      "text/plain": [
       "<Figure size 432x288 with 1 Axes>"
      ]
     },
     "metadata": {},
     "output_type": "display_data"
    }
   ],
   "source": [
    "sns.set(style=\"whitegrid\")\n",
    "p = sns.countplot(data=df_heart, x = 'cp', hue='target')"
   ]
  },
  {
   "cell_type": "markdown",
   "id": "45447227-131d-41ae-a467-5b6ff7c18405",
   "metadata": {
    "papermill": {
     "duration": 0.04587,
     "end_time": "2021-04-19T11:14:59.658240",
     "exception": false,
     "start_time": "2021-04-19T11:14:59.612370",
     "status": "completed"
    },
    "tags": []
   },
   "source": [
    "## **Data distribution**"
   ]
  },
  {
   "cell_type": "code",
   "execution_count": 20,
   "id": "b9e86f2a-0b02-4157-9bd1-cdb36843f745",
   "metadata": {
    "papermill": {
     "duration": 0.345535,
     "end_time": "2021-04-19T11:15:00.050983",
     "exception": false,
     "start_time": "2021-04-19T11:14:59.705448",
     "status": "completed"
    },
    "scrolled": true,
    "tags": []
   },
   "outputs": [
    {
     "data": {
      "text/plain": [
       "Text(0.5, 1.0, 'Resting Blood pressure value')"
      ]
     },
     "execution_count": 20,
     "metadata": {},
     "output_type": "execute_result"
    },
    {
     "data": {
      "image/png": "[encoded data removed]",
      "text/plain": [
       "<Figure size 288x288 with 1 Axes>"
      ]
     },
     "metadata": {},
     "output_type": "display_data"
    }
   ],
   "source": [
    "df_heart['trestbps'].plot(kind='hist',density=True,figsize=(4,4))\n",
    "df_heart['trestbps'].plot(kind='density')\n",
    "plt.xlabel('restbp')\n",
    "plt.ylabel('density value')\n",
    "plt.title('Resting Blood pressure value')"
   ]
  },
  {
   "cell_type": "code",
   "execution_count": 21,
   "id": "1d627926-ca67-4a0e-bb6b-d14cf97cd63e",
   "metadata": {
    "papermill": {
     "duration": 0.322519,
     "end_time": "2021-04-19T11:15:00.422255",
     "exception": false,
     "start_time": "2021-04-19T11:15:00.099736",
     "status": "completed"
    },
    "tags": []
   },
   "outputs": [
    {
     "data": {
      "text/plain": [
       "Text(0.5, 1.0, 'ca')"
      ]
     },
     "execution_count": 21,
     "metadata": {},
     "output_type": "execute_result"
    },
    {
     "data": {
      "image/png": "[encoded data removed]",
      "text/plain": [
       "<Figure size 288x288 with 1 Axes>"
      ]
     },
     "metadata": {},
     "output_type": "display_data"
    }
   ],
   "source": [
    "df_heart['ca'].plot(kind='hist',density=True,figsize=(4,4))\n",
    "df_heart['ca'].plot(kind='density')\n",
    "plt.xlabel('chol')\n",
    "plt.ylabel('density')\n",
    "plt.title('ca')"
   ]
  },
  {
   "cell_type": "markdown",
   "id": "4cdd0150-7dac-4929-bb02-a768a033adc7",
   "metadata": {
    "papermill": {
     "duration": 0.049484,
     "end_time": "2021-04-19T11:15:00.519980",
     "exception": false,
     "start_time": "2021-04-19T11:15:00.470496",
     "status": "completed"
    },
    "tags": []
   },
   "source": [
    "## **Train model**"
   ]
  },
  {
   "cell_type": "code",
   "execution_count": 23,
   "id": "8fa05e19-c160-4c2f-83e9-d3ef65df2a68",
   "metadata": {
    "papermill": {
     "duration": 0.364732,
     "end_time": "2021-04-19T11:15:00.930961",
     "exception": false,
     "start_time": "2021-04-19T11:15:00.566229",
     "status": "completed"
    },
    "tags": []
   },
   "outputs": [
    {
     "name": "stdout",
     "output_type": "stream",
     "text": [
      "X_train: (242, 13)\n",
      "y_train: (242,)\n",
      "X_test: (61, 13)\n",
      "y_test: (61,)\n"
     ]
    }
   ],
   "source": [
    "#Defining X and y\n",
    "X = df_heart.drop(['target'], axis=1)\n",
    "y = df_heart['target']\n",
    "\n",
    "# creating dataset split for prediction\n",
    "from sklearn.model_selection import train_test_split\n",
    "X_train, X_test , y_train , y_test = train_test_split(X,y,test_size=0.2,random_state=42) # 80-20 split\n",
    "\n",
    "# Checking split \n",
    "print('X_train:', X_train.shape)\n",
    "print('y_train:', y_train.shape)\n",
    "print('X_test:', X_test.shape)\n",
    "print('y_test:', y_test.shape)"
   ]
  },
  {
   "cell_type": "code",
   "execution_count": 39,
   "id": "6f3a5747-8f96-4e2f-bce7-fb5be247f074",
   "metadata": {},
   "outputs": [
    {
     "data": {
      "text/html": [
       "<div>\n",
       "<style scoped>\n",
       "    .dataframe tbody tr th:only-of-type {\n",
       "        vertical-align: middle;\n",
       "    }\n",
       "\n",
       "    .dataframe tbody tr th {\n",
       "        vertical-align: top;\n",
       "    }\n",
       "\n",
       "    .dataframe thead th {\n",
       "        text-align: right;\n",
       "    }\n",
       "</style>\n",
       "<table border=\"1\" class=\"dataframe\">\n",
       "  <thead>\n",
       "    <tr style=\"text-align: right;\">\n",
       "      <th></th>\n",
       "      <th>age</th>\n",
       "      <th>sex</th>\n",
       "      <th>cp</th>\n",
       "      <th>trestbps</th>\n",
       "      <th>chol</th>\n",
       "      <th>fbs</th>\n",
       "      <th>restecg</th>\n",
       "      <th>thalach</th>\n",
       "      <th>exang</th>\n",
       "      <th>oldpeak</th>\n",
       "      <th>slope</th>\n",
       "      <th>ca</th>\n",
       "      <th>thal</th>\n",
       "    </tr>\n",
       "  </thead>\n",
       "  <tbody>\n",
       "    <tr>\n",
       "      <th>132</th>\n",
       "      <td>42</td>\n",
       "      <td>1</td>\n",
       "      <td>1</td>\n",
       "      <td>120</td>\n",
       "      <td>295</td>\n",
       "      <td>0</td>\n",
       "      <td>1</td>\n",
       "      <td>162</td>\n",
       "      <td>0</td>\n",
       "      <td>0.0</td>\n",
       "      <td>2</td>\n",
       "      <td>0</td>\n",
       "      <td>2</td>\n",
       "    </tr>\n",
       "    <tr>\n",
       "      <th>202</th>\n",
       "      <td>58</td>\n",
       "      <td>1</td>\n",
       "      <td>0</td>\n",
       "      <td>150</td>\n",
       "      <td>270</td>\n",
       "      <td>0</td>\n",
       "      <td>0</td>\n",
       "      <td>111</td>\n",
       "      <td>1</td>\n",
       "      <td>0.8</td>\n",
       "      <td>2</td>\n",
       "      <td>0</td>\n",
       "      <td>3</td>\n",
       "    </tr>\n",
       "    <tr>\n",
       "      <th>196</th>\n",
       "      <td>46</td>\n",
       "      <td>1</td>\n",
       "      <td>2</td>\n",
       "      <td>150</td>\n",
       "      <td>231</td>\n",
       "      <td>0</td>\n",
       "      <td>1</td>\n",
       "      <td>147</td>\n",
       "      <td>0</td>\n",
       "      <td>3.6</td>\n",
       "      <td>1</td>\n",
       "      <td>0</td>\n",
       "      <td>2</td>\n",
       "    </tr>\n",
       "    <tr>\n",
       "      <th>75</th>\n",
       "      <td>55</td>\n",
       "      <td>0</td>\n",
       "      <td>1</td>\n",
       "      <td>135</td>\n",
       "      <td>250</td>\n",
       "      <td>0</td>\n",
       "      <td>0</td>\n",
       "      <td>161</td>\n",
       "      <td>0</td>\n",
       "      <td>1.4</td>\n",
       "      <td>1</td>\n",
       "      <td>0</td>\n",
       "      <td>2</td>\n",
       "    </tr>\n",
       "    <tr>\n",
       "      <th>176</th>\n",
       "      <td>60</td>\n",
       "      <td>1</td>\n",
       "      <td>0</td>\n",
       "      <td>117</td>\n",
       "      <td>230</td>\n",
       "      <td>1</td>\n",
       "      <td>1</td>\n",
       "      <td>160</td>\n",
       "      <td>1</td>\n",
       "      <td>1.4</td>\n",
       "      <td>2</td>\n",
       "      <td>2</td>\n",
       "      <td>3</td>\n",
       "    </tr>\n",
       "    <tr>\n",
       "      <th>...</th>\n",
       "      <td>...</td>\n",
       "      <td>...</td>\n",
       "      <td>...</td>\n",
       "      <td>...</td>\n",
       "      <td>...</td>\n",
       "      <td>...</td>\n",
       "      <td>...</td>\n",
       "      <td>...</td>\n",
       "      <td>...</td>\n",
       "      <td>...</td>\n",
       "      <td>...</td>\n",
       "      <td>...</td>\n",
       "      <td>...</td>\n",
       "    </tr>\n",
       "    <tr>\n",
       "      <th>188</th>\n",
       "      <td>50</td>\n",
       "      <td>1</td>\n",
       "      <td>2</td>\n",
       "      <td>140</td>\n",
       "      <td>233</td>\n",
       "      <td>0</td>\n",
       "      <td>1</td>\n",
       "      <td>163</td>\n",
       "      <td>0</td>\n",
       "      <td>0.6</td>\n",
       "      <td>1</td>\n",
       "      <td>1</td>\n",
       "      <td>3</td>\n",
       "    </tr>\n",
       "    <tr>\n",
       "      <th>71</th>\n",
       "      <td>51</td>\n",
       "      <td>1</td>\n",
       "      <td>2</td>\n",
       "      <td>94</td>\n",
       "      <td>227</td>\n",
       "      <td>0</td>\n",
       "      <td>1</td>\n",
       "      <td>154</td>\n",
       "      <td>1</td>\n",
       "      <td>0.0</td>\n",
       "      <td>2</td>\n",
       "      <td>1</td>\n",
       "      <td>3</td>\n",
       "    </tr>\n",
       "    <tr>\n",
       "      <th>106</th>\n",
       "      <td>69</td>\n",
       "      <td>1</td>\n",
       "      <td>3</td>\n",
       "      <td>160</td>\n",
       "      <td>234</td>\n",
       "      <td>1</td>\n",
       "      <td>0</td>\n",
       "      <td>131</td>\n",
       "      <td>0</td>\n",
       "      <td>0.1</td>\n",
       "      <td>1</td>\n",
       "      <td>1</td>\n",
       "      <td>2</td>\n",
       "    </tr>\n",
       "    <tr>\n",
       "      <th>270</th>\n",
       "      <td>46</td>\n",
       "      <td>1</td>\n",
       "      <td>0</td>\n",
       "      <td>120</td>\n",
       "      <td>249</td>\n",
       "      <td>0</td>\n",
       "      <td>0</td>\n",
       "      <td>144</td>\n",
       "      <td>0</td>\n",
       "      <td>0.8</td>\n",
       "      <td>2</td>\n",
       "      <td>0</td>\n",
       "      <td>3</td>\n",
       "    </tr>\n",
       "    <tr>\n",
       "      <th>102</th>\n",
       "      <td>63</td>\n",
       "      <td>0</td>\n",
       "      <td>1</td>\n",
       "      <td>140</td>\n",
       "      <td>195</td>\n",
       "      <td>0</td>\n",
       "      <td>1</td>\n",
       "      <td>179</td>\n",
       "      <td>0</td>\n",
       "      <td>0.0</td>\n",
       "      <td>2</td>\n",
       "      <td>2</td>\n",
       "      <td>2</td>\n",
       "    </tr>\n",
       "  </tbody>\n",
       "</table>\n",
       "<p>242 rows × 13 columns</p>\n",
       "</div>"
      ],
      "text/plain": [
       "     age  sex  cp  trestbps  chol  fbs  restecg  thalach  exang  oldpeak  \\\n",
       "132   42    1   1       120   295    0        1      162      0      0.0   \n",
       "202   58    1   0       150   270    0        0      111      1      0.8   \n",
       "196   46    1   2       150   231    0        1      147      0      3.6   \n",
       "75    55    0   1       135   250    0        0      161      0      1.4   \n",
       "176   60    1   0       117   230    1        1      160      1      1.4   \n",
       "..   ...  ...  ..       ...   ...  ...      ...      ...    ...      ...   \n",
       "188   50    1   2       140   233    0        1      163      0      0.6   \n",
       "71    51    1   2        94   227    0        1      154      1      0.0   \n",
       "106   69    1   3       160   234    1        0      131      0      0.1   \n",
       "270   46    1   0       120   249    0        0      144      0      0.8   \n",
       "102   63    0   1       140   195    0        1      179      0      0.0   \n",
       "\n",
       "     slope  ca  thal  \n",
       "132      2   0     2  \n",
       "202      2   0     3  \n",
       "196      1   0     2  \n",
       "75       1   0     2  \n",
       "176      2   2     3  \n",
       "..     ...  ..   ...  \n",
       "188      1   1     3  \n",
       "71       2   1     3  \n",
       "106      1   1     2  \n",
       "270      2   0     3  \n",
       "102      2   2     2  \n",
       "\n",
       "[242 rows x 13 columns]"
      ]
     },
     "execution_count": 39,
     "metadata": {},
     "output_type": "execute_result"
    }
   ],
   "source": [
    "X_train"
   ]
  },
  {
   "cell_type": "markdown",
   "id": "49f2eac0-7521-4fd1-9f29-9e18dccd9863",
   "metadata": {
    "papermill": {
     "duration": 0.049884,
     "end_time": "2021-04-19T11:15:01.029920",
     "exception": false,
     "start_time": "2021-04-19T11:15:00.980036",
     "status": "completed"
    },
    "tags": []
   },
   "source": [
    "## **Applying machine learning algorithms**"
   ]
  },
  {
   "cell_type": "code",
   "execution_count": 25,
   "id": "3539ecbc-703f-4841-8dea-c4fac4569a81",
   "metadata": {
    "papermill": {
     "duration": 1.218738,
     "end_time": "2021-04-19T11:15:02.297391",
     "exception": false,
     "start_time": "2021-04-19T11:15:01.078653",
     "status": "completed"
    },
    "tags": []
   },
   "outputs": [
    {
     "name": "stdout",
     "output_type": "stream",
     "text": [
      "Random Forest Classifier Accuracy: 85.24590163934425 %\n",
      "Training time 0.366\n"
     ]
    },
    {
     "data": {
      "text/plain": [
       "<AxesSubplot:>"
      ]
     },
     "execution_count": 25,
     "metadata": {},
     "output_type": "execute_result"
    },
    {
     "data": {
      "image/png": "[encoded data removed]",
      "text/plain": [
       "<Figure size 432x288 with 2 Axes>"
      ]
     },
     "metadata": {},
     "output_type": "display_data"
    }
   ],
   "source": [
    "# 1. Using Random Forest Classifier\n",
    "t0 = time()\n",
    "# Load random forest classifier \n",
    "from sklearn.ensemble import RandomForestClassifier\n",
    "\n",
    "# Create a random forest Classifier\n",
    "clf = RandomForestClassifier(n_jobs=2, random_state=0)\n",
    "\n",
    "# Train the Classifier/fitting the model\n",
    "clf.fit(X_train, y_train)\n",
    "\n",
    "# predict the response\n",
    "y_pred = clf.predict(X_test)\n",
    "acc_rf = round(clf.score(X_test,y_test) * 100, 2)\n",
    "rf_time=(round(time() - t0, 3))\n",
    "\n",
    "#Import scikit-learn metrics module for accuracy calculation\n",
    "from sklearn import metrics\n",
    "\n",
    "# evaluate accuracy\n",
    "print(\"Random Forest Classifier Accuracy:\",metrics.accuracy_score(y_test, y_pred)*100,\"%\")\n",
    "print('Training time', rf_time)\n",
    "\n",
    "#Print Confusion Matrix\n",
    "from sklearn.metrics import confusion_matrix\n",
    "\n",
    "cm = pd.DataFrame(confusion_matrix(y_test, y_pred))\n",
    "sns.heatmap(cm, annot=True)"
   ]
  },
  {
   "cell_type": "code",
   "execution_count": 26,
   "id": "aa16a6ee-ae5d-4055-84bb-a331345ff337",
   "metadata": {
    "papermill": {
     "duration": 0.361969,
     "end_time": "2021-04-19T11:15:02.707320",
     "exception": false,
     "start_time": "2021-04-19T11:15:02.345351",
     "status": "completed"
    },
    "tags": []
   },
   "outputs": [
    {
     "name": "stdout",
     "output_type": "stream",
     "text": [
      "Gaussian Naïve Bayes Accuracy: 86.88524590163934 %\n",
      "Training time 0.011\n"
     ]
    },
    {
     "data": {
      "text/plain": [
       "<AxesSubplot:>"
      ]
     },
     "execution_count": 26,
     "metadata": {},
     "output_type": "execute_result"
    },
    {
     "data": {
      "image/png": "[encoded data removed]",
      "text/plain": [
       "<Figure size 432x288 with 2 Axes>"
      ]
     },
     "metadata": {},
     "output_type": "display_data"
    }
   ],
   "source": [
    "#2. Gaussian Naive Bayes Classifier\n",
    "t0 = time()\n",
    "#Import Gaussian Naive Bayes model\n",
    "from sklearn.naive_bayes import GaussianNB\n",
    "\n",
    "#Create a Gaussian Classifier\n",
    "gnb = GaussianNB()\n",
    "\n",
    "# Train the Classifier/fitting the model\n",
    "gnb.fit(X_train, y_train)\n",
    "\n",
    "# predict the response\n",
    "y_pred = gnb.predict(X_test)\n",
    "acc_gnb = round(gnb.score(X_test,y_test) * 100, 2)\n",
    "gnb_time=(round(time() - t0, 3))\n",
    "\n",
    "#Import scikit-learn metrics module for accuracy calculation\n",
    "from sklearn import metrics\n",
    "\n",
    "# evaluate accuracy\n",
    "print(\"Gaussian Naïve Bayes Accuracy:\",metrics.accuracy_score(y_test, y_pred)*100,\"%\")\n",
    "print('Training time', gnb_time)\n",
    "cm = pd.DataFrame(confusion_matrix(y_test, y_pred))\n",
    "sns.heatmap(cm, annot=True)"
   ]
  },
  {
   "cell_type": "code",
   "execution_count": 27,
   "id": "cf212065-9853-48c1-a5a2-d9d84bf1323d",
   "metadata": {
    "papermill": {
     "duration": 0.360358,
     "end_time": "2021-04-19T11:15:03.117000",
     "exception": false,
     "start_time": "2021-04-19T11:15:02.756642",
     "status": "completed"
    },
    "tags": []
   },
   "outputs": [
    {
     "name": "stdout",
     "output_type": "stream",
     "text": [
      "Decision Tree Accuracy: 85.24590163934425 %\n",
      "Training time 4.087\n"
     ]
    },
    {
     "data": {
      "text/plain": [
       "<AxesSubplot:>"
      ]
     },
     "execution_count": 27,
     "metadata": {},
     "output_type": "execute_result"
    },
    {
     "data": {
      "image/png": "[encoded data removed]",
      "text/plain": [
       "<Figure size 432x288 with 2 Axes>"
      ]
     },
     "metadata": {},
     "output_type": "display_data"
    }
   ],
   "source": [
    "#import Decision Tree Classifier\n",
    "from sklearn.tree import DecisionTreeClassifier\n",
    "from sklearn import tree\n",
    "\n",
    "# Create Decision Tree classifer object\n",
    "clf = DecisionTreeClassifier(max_depth=10)\n",
    "\n",
    "# Train the Classifier/fitting the model\n",
    "clf = clf.fit(X_train,y_train)\n",
    "\n",
    "# predict the response\n",
    "y_pred = clf.predict(X_test)\n",
    "acc_dt = round(clf.score(X_test,y_test) * 100, 2)\n",
    "dt_time=(round(time() - t0, 3))\n",
    "\n",
    "#Import scikit-learn metrics module for accuracy calculation\n",
    "from sklearn.metrics import accuracy_score \n",
    "\n",
    "# evaluate accuracy\n",
    "print (\"Decision Tree Accuracy:\", metrics.accuracy_score(y_test, y_pred)*100,\"%\")\n",
    "print('Training time', dt_time)\n",
    "\n",
    "cm = pd.DataFrame(confusion_matrix(y_test, y_pred))\n",
    "sns.heatmap(cm, annot=True)"
   ]
  },
  {
   "cell_type": "code",
   "execution_count": 28,
   "id": "0a04ca8a-7126-492f-a6d4-1f1993e67c41",
   "metadata": {
    "papermill": {
     "duration": 0.373518,
     "end_time": "2021-04-19T11:15:03.550800",
     "exception": false,
     "start_time": "2021-04-19T11:15:03.177282",
     "status": "completed"
    },
    "tags": []
   },
   "outputs": [
    {
     "name": "stdout",
     "output_type": "stream",
     "text": [
      "kNN Accuracy: 65.57377049180327 %\n",
      "Training time 6.88\n"
     ]
    },
    {
     "data": {
      "text/plain": [
       "<AxesSubplot:>"
      ]
     },
     "execution_count": 28,
     "metadata": {},
     "output_type": "execute_result"
    },
    {
     "data": {
      "image/png": "[encoded data removed]",
      "text/plain": [
       "<Figure size 432x288 with 2 Axes>"
      ]
     },
     "metadata": {},
     "output_type": "display_data"
    }
   ],
   "source": [
    "#kNN\n",
    "import sys, os\n",
    "\n",
    "# Import kNN classifier\n",
    "from sklearn.neighbors import KNeighborsClassifier\n",
    "\n",
    "# instantiate learning model (k = 3)\n",
    "knn = KNeighborsClassifier(n_neighbors=3)\n",
    "\n",
    "# Train the Classifier/fitting the model\n",
    "knn.fit(X_train, y_train)\n",
    "\n",
    "# predict the response\n",
    "y_pred = knn.predict(X_test)\n",
    "acc_knn = round(knn.score(X_test,y_test) * 100, 2)\n",
    "knn_time=(round(time() - t0, 3))\n",
    "\n",
    "#Import scikit-learn metrics module for accuracy calculation\n",
    "from sklearn import metrics\n",
    "\n",
    "# evaluate accuracy\n",
    "print(\"kNN Accuracy:\",metrics.accuracy_score(y_test, y_pred)*100,\"%\")\n",
    "print('Training time', knn_time)\n",
    "\n",
    "cm = pd.DataFrame(confusion_matrix(y_test, y_pred))\n",
    "sns.heatmap(cm, annot=True,cmap=\"coolwarm_r\")"
   ]
  },
  {
   "cell_type": "code",
   "execution_count": 29,
   "id": "85226595-e744-43af-9492-106fac113425",
   "metadata": {
    "papermill": {
     "duration": 0.34388,
     "end_time": "2021-04-19T11:15:03.948745",
     "exception": false,
     "start_time": "2021-04-19T11:15:03.604865",
     "status": "completed"
    },
    "tags": []
   },
   "outputs": [
    {
     "name": "stdout",
     "output_type": "stream",
     "text": [
      "SVM Accuracy: 70.49180327868852 %\n",
      "Training time 8.597\n"
     ]
    },
    {
     "data": {
      "text/plain": [
       "<AxesSubplot:>"
      ]
     },
     "execution_count": 29,
     "metadata": {},
     "output_type": "execute_result"
    },
    {
     "data": {
      "image/png": "[encoded data removed]",
      "text/plain": [
       "<Figure size 432x288 with 2 Axes>"
      ]
     },
     "metadata": {},
     "output_type": "display_data"
    }
   ],
   "source": [
    "#Support Vector Machines trial\n",
    "import sys, os\n",
    "\n",
    "#Import svm model\n",
    "from sklearn import svm\n",
    "from sklearn.svm import SVC\n",
    "\n",
    "#Create a svm Classifier\n",
    "clf = SVC(C=1, kernel='rbf')\n",
    "\n",
    "# Train the Classifier/fitting the model\n",
    "clf.fit(X_train, y_train)\n",
    "\n",
    "# predict the response\n",
    "y_pred = clf.predict(X_test)\n",
    "acc_svm = round(clf.score(X_test,y_test) * 100, 2)\n",
    "svm_time=(round(time() - t0, 3))\n",
    "# evaluate accuracy\n",
    "print(\"SVM Accuracy:\",metrics.accuracy_score(y_test, y_pred)*100,\"%\")\n",
    "print('Training time', svm_time)\n",
    "\n",
    "cm = pd.DataFrame(confusion_matrix(y_test, y_pred))\n",
    "sns.heatmap(cm, annot=True,cmap=\"coolwarm_r\")"
   ]
  },
  {
   "cell_type": "markdown",
   "id": "69e9fd21-771a-4e00-98a8-12a419f590e3",
   "metadata": {
    "papermill": {
     "duration": 0.061225,
     "end_time": "2021-04-19T11:15:04.067768",
     "exception": false,
     "start_time": "2021-04-19T11:15:04.006543",
     "status": "completed"
    },
    "tags": []
   },
   "source": [
    "## **Accuracies models**"
   ]
  },
  {
   "cell_type": "code",
   "execution_count": 30,
   "id": "a9e85cfe-4816-4156-b949-f23cb9ddccdd",
   "metadata": {
    "papermill": {
     "duration": 0.241425,
     "end_time": "2021-04-19T11:15:04.363837",
     "exception": false,
     "start_time": "2021-04-19T11:15:04.122412",
     "status": "completed"
    },
    "tags": []
   },
   "outputs": [
    {
     "data": {
      "image/png": "[encoded data removed]",
      "text/plain": [
       "<Figure size 432x288 with 1 Axes>"
      ]
     },
     "metadata": {},
     "output_type": "display_data"
    }
   ],
   "source": [
    "# visualizing accuracies for all ML Algorithms using Matplotlib\n",
    "predictors_group = ('Random Forest', 'GaussianNB', 'DecisionTree','kNN','SVM')\n",
    "x_pos = np.arange(len(predictors_group))\n",
    "accuracies1 = [acc_rf, acc_gnb, acc_dt,acc_knn, acc_svm]\n",
    "    \n",
    "plt.bar(x_pos, accuracies1, align='center', alpha=0.5, color='blue')\n",
    "plt.xticks(x_pos, predictors_group, rotation='vertical')\n",
    "plt.ylabel('Accuracy (%)')\n",
    "plt.title('Classifier Accuracies')\n",
    "plt.show()"
   ]
  },
  {
   "cell_type": "code",
   "execution_count": 31,
   "id": "a7a2a09d-194a-47cd-84db-56d3076573fe",
   "metadata": {
    "papermill": {
     "duration": 0.072893,
     "end_time": "2021-04-19T11:15:04.497104",
     "exception": false,
     "start_time": "2021-04-19T11:15:04.424211",
     "status": "completed"
    },
    "tags": []
   },
   "outputs": [
    {
     "name": "stdout",
     "output_type": "stream",
     "text": [
      "Decision Tree: 85.25 % with 4.087 s\n",
      "Random Forest: 85.25 % with 0.366 s\n",
      "GaussianNB: 86.89 % with 0.011 s\n"
     ]
    }
   ],
   "source": [
    "#printing top three accuracies with training time\n",
    "\n",
    "print('Decision Tree:', acc_dt,'%','with', dt_time,'s')\n",
    "print('Random Forest:', acc_rf,'%','with', rf_time,'s')\n",
    "print('GaussianNB:',acc_gnb,'%','with', gnb_time,'s')"
   ]
  },
  {
   "cell_type": "code",
   "execution_count": 32,
   "id": "987b1fd6-4f9e-46d2-b555-910a17c14d76",
   "metadata": {
    "papermill": {
     "duration": 0.064791,
     "end_time": "2021-04-19T11:15:04.617356",
     "exception": false,
     "start_time": "2021-04-19T11:15:04.552565",
     "status": "completed"
    },
    "tags": []
   },
   "outputs": [],
   "source": [
    "# importing the model for prediction\n",
    "\n",
    "from sklearn.tree import DecisionTreeClassifier\n",
    "from sklearn.ensemble import RandomForestClassifier\n",
    "from sklearn.naive_bayes import GaussianNB\n",
    "\n",
    "# creating list of tuple wth model and its name  \n",
    "models = []\n",
    "models.append(('DT',DecisionTreeClassifier()))\n",
    "models.append(('RF',RandomForestClassifier()))\n",
    "models.append(('GNB',GaussianNB()))"
   ]
  },
  {
   "cell_type": "markdown",
   "id": "facb8bd6-3ff8-4dc4-ba87-291923f42d79",
   "metadata": {
    "papermill": {
     "duration": 0.058811,
     "end_time": "2021-04-19T11:15:04.732390",
     "exception": false,
     "start_time": "2021-04-19T11:15:04.673579",
     "status": "completed"
    },
    "tags": []
   },
   "source": [
    "## **Cross Validation**"
   ]
  },
  {
   "cell_type": "code",
   "execution_count": 33,
   "id": "6b5612e2-d2cd-4fdf-bb9e-241f9291ab96",
   "metadata": {
    "papermill": {
     "duration": 0.785446,
     "end_time": "2021-04-19T11:15:05.575262",
     "exception": false,
     "start_time": "2021-04-19T11:15:04.789816",
     "status": "completed"
    },
    "tags": []
   },
   "outputs": [
    {
     "name": "stdout",
     "output_type": "stream",
     "text": [
      "('DT', 70.67)\n",
      "('RF', 78.1)\n",
      "('GNB', 80.16)\n"
     ]
    }
   ],
   "source": [
    "# Import Cross Validation \n",
    "from sklearn.model_selection import cross_val_score\n",
    "\n",
    "from sklearn.model_selection import KFold\n",
    "kf = KFold(n_splits=3, random_state=42, shuffle=True)\n",
    "kf.get_n_splits(X)\n",
    "# print(kf)\n",
    "\n",
    "acc = []   # All Algorithm/model accuracies\n",
    "names = []    # All model name\n",
    "\n",
    "for name, model in models:\n",
    "    \n",
    "    acc_of_model = cross_val_score(model, X_train, y_train, cv=kf, scoring='accuracy') # kFolds =5 without shuffling\n",
    "    \n",
    "    acc.append(acc_of_model) # appending Accuray of different model to acc List\n",
    "    \n",
    "    names.append(name)# appending name of models\n",
    "    Acc =name,round(acc_of_model.mean()*100,2) # printing Output \n",
    "    print(Acc)"
   ]
  },
  {
   "cell_type": "code",
   "execution_count": 34,
   "id": "bf781462-cc3b-4c62-bfc0-2dfaf8d7958a",
   "metadata": {
    "papermill": {
     "duration": 0.268659,
     "end_time": "2021-04-19T11:15:05.906638",
     "exception": false,
     "start_time": "2021-04-19T11:15:05.637979",
     "status": "completed"
    },
    "tags": []
   },
   "outputs": [
    {
     "data": {
      "image/png": "[encoded data removed]",
      "text/plain": [
       "<Figure size 720x576 with 1 Axes>"
      ]
     },
     "metadata": {},
     "output_type": "display_data"
    }
   ],
   "source": [
    "# Plotting all accuracies together for comparison\n",
    "# using the values for accuracies from previous steps\n",
    "# these accuracies might vary slightly with each run. Hence,these need to be updated here before plotting\n",
    "\n",
    "labels = ['Decision Tree', 'Random Forest','Gaussian NB']\n",
    "NoCV =[81.97, 83.61,86.89] # accuracy before Cross Validation\n",
    "CV=[70.25, 78.09, 80.16] # accuracy after Cross Validation \n",
    "\n",
    "x = np.arange(len(labels))  # the label locations\n",
    "width = 0.25  # the width of the bars\n",
    "\n",
    "f, ax = plt.subplots(figsize=(10,8)) \n",
    "p1 = ax.bar(x - width/2, CV, width, label='After Cross Validation', color='blue')\n",
    "p2 = ax.bar(x + width/2, NoCV, width, label='Before Cross Validation')\n",
    "\n",
    "# Add some text for labels and title \n",
    "ax.set_ylabel('Accuracies')\n",
    "ax.set_title('Accuracy comparison')\n",
    "ax.set_xticks(x)\n",
    "plt.xticks()\n",
    "ax.set_xticklabels(labels)\n",
    "ax.legend(loc='best')\n",
    "plt.show()"
   ]
  },
  {
   "cell_type": "code",
   "execution_count": 35,
   "id": "db41e7ad-e8a5-48b1-8da0-1173b0e10a76",
   "metadata": {
    "papermill": {
     "duration": 0.072745,
     "end_time": "2021-04-19T11:15:06.040038",
     "exception": false,
     "start_time": "2021-04-19T11:15:05.967293",
     "status": "completed"
    },
    "tags": []
   },
   "outputs": [],
   "source": [
    "df_women = df_heart[df_heart['sex'] == 0]"
   ]
  },
  {
   "cell_type": "code",
   "execution_count": 36,
   "id": "a4c2333e-99f1-4ccd-9c5f-14316195deca",
   "metadata": {
    "papermill": {
     "duration": 0.078878,
     "end_time": "2021-04-19T11:15:06.179889",
     "exception": false,
     "start_time": "2021-04-19T11:15:06.101011",
     "status": "completed"
    },
    "tags": []
   },
   "outputs": [
    {
     "name": "stdout",
     "output_type": "stream",
     "text": [
      "<class 'pandas.core.frame.DataFrame'>\n",
      "Int64Index: 96 entries, 2 to 302\n",
      "Data columns (total 14 columns):\n",
      " #   Column    Non-Null Count  Dtype  \n",
      "---  ------    --------------  -----  \n",
      " 0   age       96 non-null     int64  \n",
      " 1   sex       96 non-null     int64  \n",
      " 2   cp        96 non-null     int64  \n",
      " 3   trestbps  96 non-null     int64  \n",
      " 4   chol      96 non-null     int64  \n",
      " 5   fbs       96 non-null     int64  \n",
      " 6   restecg   96 non-null     int64  \n",
      " 7   thalach   96 non-null     int64  \n",
      " 8   exang     96 non-null     int64  \n",
      " 9   oldpeak   96 non-null     float64\n",
      " 10  slope     96 non-null     int64  \n",
      " 11  ca        96 non-null     int64  \n",
      " 12  thal      96 non-null     int64  \n",
      " 13  target    96 non-null     int64  \n",
      "dtypes: float64(1), int64(13)\n",
      "memory usage: 11.2 KB\n"
     ]
    }
   ],
   "source": [
    "df_women.info()"
   ]
  },
  {
   "cell_type": "code",
   "execution_count": 37,
   "id": "fb5272e0-6710-44d5-98b8-40a862f3828e",
   "metadata": {
    "papermill": {
     "duration": 0.076659,
     "end_time": "2021-04-19T11:15:06.315378",
     "exception": false,
     "start_time": "2021-04-19T11:15:06.238719",
     "status": "completed"
    },
    "tags": []
   },
   "outputs": [
    {
     "name": "stdout",
     "output_type": "stream",
     "text": [
      "     age  sex  cp  trestbps  chol  fbs  restecg  thalach  exang  oldpeak  \\\n",
      "2     41    0   1       130   204    0        0      172      0      1.4   \n",
      "4     57    0   0       120   354    0        1      163      1      0.6   \n",
      "6     56    0   1       140   294    0        0      153      0      1.3   \n",
      "11    48    0   2       130   275    0        1      139      0      0.2   \n",
      "14    58    0   3       150   283    1        0      162      0      1.0   \n",
      "..   ...  ...  ..       ...   ...  ...      ...      ...    ...      ...   \n",
      "289   55    0   0       128   205    0        2      130      1      2.0   \n",
      "292   58    0   0       170   225    1        0      146      1      2.8   \n",
      "296   63    0   0       124   197    0        1      136      1      0.0   \n",
      "298   57    0   0       140   241    0        1      123      1      0.2   \n",
      "302   57    0   1       130   236    0        0      174      0      0.0   \n",
      "\n",
      "     slope  ca  thal  target  \n",
      "2        2   0     2       1  \n",
      "4        2   0     2       1  \n",
      "6        1   0     2       1  \n",
      "11       2   0     2       1  \n",
      "14       2   0     2       1  \n",
      "..     ...  ..   ...     ...  \n",
      "289      1   1     3       0  \n",
      "292      1   2     1       0  \n",
      "296      1   0     2       0  \n",
      "298      1   0     3       0  \n",
      "302      1   1     2       0  \n",
      "\n",
      "[96 rows x 14 columns]\n"
     ]
    }
   ],
   "source": [
    "print (df_women)"
   ]
  },
  {
   "cell_type": "code",
   "execution_count": 35,
   "id": "5381ed55-0316-4a51-b10a-86326c6d4c0e",
   "metadata": {
    "papermill": {
     "duration": 0.078427,
     "end_time": "2021-04-19T11:15:06.451576",
     "exception": false,
     "start_time": "2021-04-19T11:15:06.373149",
     "status": "completed"
    },
    "tags": []
   },
   "outputs": [
    {
     "name": "stdout",
     "output_type": "stream",
     "text": [
      "df_women: (96, 14)\n"
     ]
    }
   ],
   "source": [
    "print('df_women:', df_women.shape)"
   ]
  },
  {
   "cell_type": "code",
   "execution_count": 39,
   "id": "986950a2-1e12-427d-8599-bfce3da69f52",
   "metadata": {
    "papermill": {
     "duration": 0.07814,
     "end_time": "2021-04-19T11:15:06.613843",
     "exception": false,
     "start_time": "2021-04-19T11:15:06.535703",
     "status": "completed"
    },
    "tags": []
   },
   "outputs": [
    {
     "name": "stdout",
     "output_type": "stream",
     "text": [
      "Xw_train: (76, 13)\n",
      "yw_train: (76,)\n",
      "Xw_test: (20, 13)\n",
      "yw_test: (20,)\n"
     ]
    }
   ],
   "source": [
    "#Defining X and y\n",
    "Xw = df_women.drop(['target'], axis=1)\n",
    "yw = df_women['target']\n",
    "\n",
    "# creating dataset split for prediction\n",
    "from sklearn.model_selection import train_test_split\n",
    "Xw_train, Xw_test , yw_train , yw_test = train_test_split(Xw,yw,test_size=0.2,random_state=42) # 80-20 split\n",
    "\n",
    "# Checking split \n",
    "print('Xw_train:', Xw_train.shape)\n",
    "print('yw_train:', yw_train.shape)\n",
    "print('Xw_test:', Xw_test.shape)\n",
    "print('yw_test:', yw_test.shape)"
   ]
  },
  {
   "cell_type": "code",
   "execution_count": 40,
   "id": "a04659ee-35c4-4c6f-bf67-a2407a9592f2",
   "metadata": {
    "papermill": {
     "duration": 0.343864,
     "end_time": "2021-04-19T11:15:07.018371",
     "exception": false,
     "start_time": "2021-04-19T11:15:06.674507",
     "status": "completed"
    },
    "tags": []
   },
   "outputs": [
    {
     "name": "stdout",
     "output_type": "stream",
     "text": [
      "Gaussian Naive Bayes Accuracy: 90.0 %\n",
      "Training time 0.007\n"
     ]
    },
    {
     "data": {
      "text/plain": [
       "<AxesSubplot:>"
      ]
     },
     "execution_count": 40,
     "metadata": {},
     "output_type": "execute_result"
    },
    {
     "data": {
      "image/png": "[encoded data removed]",
      "text/plain": [
       "<Figure size 432x288 with 2 Axes>"
      ]
     },
     "metadata": {},
     "output_type": "display_data"
    }
   ],
   "source": [
    "#Gaussian Naive Bayes Classifier\n",
    "t0 = time()\n",
    "#Import Gaussian Naive Bayes model\n",
    "from sklearn.naive_bayes import GaussianNB\n",
    "\n",
    "#Create a Gaussian Classifier\n",
    "gnb = GaussianNB()\n",
    "\n",
    "# Train the Classifier/fitting the model\n",
    "gnb.fit(Xw_train, yw_train)\n",
    "\n",
    "# predict the response\n",
    "yw_pred = gnb.predict(Xw_test)\n",
    "acc_gnb = round(gnb.score(Xw_test,yw_test) * 100, 2)\n",
    "gnb_time=(round(time() - t0, 3))\n",
    "\n",
    "#Import scikit-learn metrics module for accuracy calculation\n",
    "from sklearn import metrics\n",
    "\n",
    "# evaluate accuracy\n",
    "print(\"Gaussian Naive Bayes Accuracy:\",metrics.accuracy_score(yw_test, yw_pred)*100,\"%\")\n",
    "print('Training time', gnb_time)\n",
    "cm = pd.DataFrame(confusion_matrix(yw_test, yw_pred))\n",
    "sns.heatmap(cm, annot=True)"
   ]
  }
 ],
 "metadata": {
  "kernelspec": {
   "display_name": "Python 3",
   "language": "python",
   "name": "python3"
  },
  "language_info": {
   "codemirror_mode": {
    "name": "ipython",
    "version": 3
   },
   "file_extension": ".py",
   "mimetype": "text/x-python",
   "name": "python",
   "nbconvert_exporter": "python",
   "pygments_lexer": "ipython3",
   "version": "3.7.3"
  },
  "papermill": {
   "default_parameters": {},
   "duration": 21.593031,
   "end_time": "2021-04-19T11:15:07.890214",
   "environment_variables": {},
   "exception": null,
   "input_path": "__notebook__.ipynb",
   "output_path": "__notebook__.ipynb",
   "parameters": {},
   "start_time": "2021-04-19T11:14:46.297183",
   "version": "2.3.2"
  }
 },
 "nbformat": 4,
 "nbformat_minor": 5
}
